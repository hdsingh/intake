{
 "cells": [
  {
   "cell_type": "markdown",
   "metadata": {},
   "source": [
    "## The new intake GUI - built with panel\n",
    "\n",
    "It is often useful to explore catalog data using a Graphical User Interface. The previous iteration of the intake GUI was built in ipywidgets - which limited you to use from within the notebook. The new version is implemented in [panel](https://panel.pyviz.org) which means that in addition to rendering in the notebook - it also can easily be served and deployed as a tornado application. \n",
    "\n",
    "\n",
    "**NOTE:** At the moment this work depends on development version of panel and bokeh\n",
    "\n",
    "\n",
    "The intake GUI is composed of various sub-panels that can be opened and closed from the control pane on the left. Try clicking the + button to get started."
   ]
  },
  {
   "cell_type": "code",
   "execution_count": null,
   "metadata": {},
   "outputs": [],
   "source": [
    "import intake\n",
    "intake.output_notebook()  # I think this is only needed in jupyter notebook (not in lab)"
   ]
  },
  {
   "cell_type": "code",
   "execution_count": null,
   "metadata": {},
   "outputs": [],
   "source": [
    "intake.gui"
   ]
  },
  {
   "cell_type": "markdown",
   "metadata": {},
   "source": [
    "Try loading remote catalog available at: https://s3.amazonaws.com/earth-data/UCMerced_LandUse/catalog.yml"
   ]
  },
  {
   "cell_type": "markdown",
   "metadata": {},
   "source": [
    "Get the selected item from the gui:"
   ]
  },
  {
   "cell_type": "code",
   "execution_count": null,
   "metadata": {},
   "outputs": [],
   "source": [
    "intake.gui.item"
   ]
  },
  {
   "cell_type": "markdown",
   "metadata": {},
   "source": [
    "This item is a regular intake catalog entry object that can be used in the regular ways. "
   ]
  },
  {
   "cell_type": "code",
   "execution_count": null,
   "metadata": {},
   "outputs": [],
   "source": [
    "dataArray = intake.gui.item.to_dask()\n",
    "dataArray"
   ]
  },
  {
   "cell_type": "markdown",
   "metadata": {},
   "source": [
    "You can also look at the GUI just for that entry:"
   ]
  },
  {
   "cell_type": "code",
   "execution_count": null,
   "metadata": {},
   "outputs": [],
   "source": [
    "intake.gui.item.gui"
   ]
  },
  {
   "cell_type": "markdown",
   "metadata": {},
   "source": [
    "OR you can get just one sub-panel from the gui and work with that directly:"
   ]
  },
  {
   "cell_type": "code",
   "execution_count": null,
   "metadata": {},
   "outputs": [],
   "source": [
    "intake.gui.description"
   ]
  },
  {
   "cell_type": "code",
   "execution_count": null,
   "metadata": {},
   "outputs": [],
   "source": [
    "import param\n",
    "import holoviews as hv\n",
    "import panel as pn"
   ]
  },
  {
   "cell_type": "code",
   "execution_count": null,
   "metadata": {},
   "outputs": [],
   "source": [
    "land_dict = {land:i for i,land in enumerate(list(dataArray.landuse.values))}\n",
    "\n",
    "class LandExplorer(param.Parameterized):\n",
    "    \n",
    "    cmap = param.ObjectSelector(default ='Blues', objects=hv.plotting.list_cmaps())\n",
    "    land = param.ObjectSelector(default='agricultural', objects=list(dataArray.landuse.values))\n",
    "    file =  param.ObjectSelector(default=0, objects = list(range(100)))\n",
    "    \n",
    "    \n",
    "    @param.depends('cmap','land','file')\n",
    "    def get_image_from_file(self):\n",
    "        cmap = self.cmap\n",
    "        land = self.land\n",
    "        file = self.file\n",
    "        index = land_dict[land]\n",
    "        return hv.Image(dataArray.values[file][index]).options(width=500, height=500,cmap = cmap)"
   ]
  },
  {
   "cell_type": "code",
   "execution_count": null,
   "metadata": {},
   "outputs": [],
   "source": [
    "l = LandExplorer()\n",
    "\n",
    "dmap = pn.Row(hv.DynamicMap(l.get_image_from_file),l.param)\n",
    "\n",
    "dashboard = pn.Column(\n",
    "    pn.Column('# <pre> Land Explorer',\n",
    "              pn.Spacer(height=50)),\n",
    "    pn.Row(\n",
    "        pn.Row(dmap[0],\n",
    "               pn.Spacer(width = 50),\n",
    "               pn.Column(\n",
    "                   pn.Spacer(height = 60),\n",
    "                   dmap[1][1],\n",
    "                   pn.Spacer(height = 30),\n",
    "                   dmap[1][2],\n",
    "                   pn.Spacer(height = 30),\n",
    "                   dmap[1][3])\n",
    "              )\n",
    "        )\n",
    ")\n",
    "\n",
    "dashboard"
   ]
  },
  {
   "cell_type": "markdown",
   "metadata": {},
   "source": [
    "You can also get a gui directly off a cat like:"
   ]
  },
  {
   "cell_type": "code",
   "execution_count": null,
   "metadata": {},
   "outputs": [],
   "source": [
    "cat = intake.open_catalog('./us_crime/us_crime.yaml')"
   ]
  },
  {
   "cell_type": "code",
   "execution_count": null,
   "metadata": {},
   "outputs": [],
   "source": [
    "cat.gui"
   ]
  },
  {
   "cell_type": "markdown",
   "metadata": {},
   "source": [
    "And do regular intake-y stuff on it."
   ]
  },
  {
   "cell_type": "code",
   "execution_count": null,
   "metadata": {},
   "outputs": [],
   "source": [
    "cat.gui.item"
   ]
  },
  {
   "cell_type": "code",
   "execution_count": null,
   "metadata": {},
   "outputs": [],
   "source": [
    "us_crime = cat.gui.item\n",
    "\n",
    "us_crime.plot.bivariate('Burglary rate', 'Property crime rate', legend=False, width=500, height=400) * \\\n",
    "us_crime.plot.scatter(  'Burglary rate', 'Property crime rate', color='black', size=15, legend=False) +\\\n",
    "us_crime.plot.table(['Burglary rate', 'Property crime rate'], width=350, height=350)"
   ]
  }
 ],
 "metadata": {
  "kernelspec": {
   "display_name": "Python 3",
   "language": "python",
   "name": "python3"
  },
  "language_info": {
   "codemirror_mode": {
    "name": "ipython",
    "version": 3
   },
   "file_extension": ".py",
   "mimetype": "text/x-python",
   "name": "python",
   "nbconvert_exporter": "python",
   "pygments_lexer": "ipython3",
   "version": "3.7.1"
  }
 },
 "nbformat": 4,
 "nbformat_minor": 2
}
